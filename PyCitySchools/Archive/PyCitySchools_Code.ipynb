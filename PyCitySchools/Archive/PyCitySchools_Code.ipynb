{
 "cells": [
  {
   "cell_type": "code",
   "execution_count": 208,
   "id": "b747b46f",
   "metadata": {},
   "outputs": [
    {
     "name": "stdout",
     "output_type": "stream",
     "text": [
      "C:\\Users\\Saman\\Python_Practice\\Pandas-Challenge\\PyCitySchools\n"
     ]
    }
   ],
   "source": [
    "import pandas as pd\n",
    "import os\n",
    "\n",
    "cwd = os.getcwd()\n",
    "print(cwd)\n",
    "\n",
    "schools = \"../Starter_Code/PyCitySchools/Resources/schools_complete.csv\"\n",
    "students = \"../Starter_Code/PyCitySchools/Resources/students_complete.csv\"\n"
   ]
  },
  {
   "cell_type": "code",
   "execution_count": 209,
   "id": "a881a79a",
   "metadata": {},
   "outputs": [
    {
     "data": {
      "text/html": [
       "<div>\n",
       "<style scoped>\n",
       "    .dataframe tbody tr th:only-of-type {\n",
       "        vertical-align: middle;\n",
       "    }\n",
       "\n",
       "    .dataframe tbody tr th {\n",
       "        vertical-align: top;\n",
       "    }\n",
       "\n",
       "    .dataframe thead th {\n",
       "        text-align: right;\n",
       "    }\n",
       "</style>\n",
       "<table border=\"1\" class=\"dataframe\">\n",
       "  <thead>\n",
       "    <tr style=\"text-align: right;\">\n",
       "      <th></th>\n",
       "      <th>School ID</th>\n",
       "      <th>school_name</th>\n",
       "      <th>type</th>\n",
       "      <th>size</th>\n",
       "      <th>budget</th>\n",
       "    </tr>\n",
       "  </thead>\n",
       "  <tbody>\n",
       "    <tr>\n",
       "      <th>0</th>\n",
       "      <td>0</td>\n",
       "      <td>Huang High School</td>\n",
       "      <td>District</td>\n",
       "      <td>2917</td>\n",
       "      <td>1910635</td>\n",
       "    </tr>\n",
       "    <tr>\n",
       "      <th>1</th>\n",
       "      <td>1</td>\n",
       "      <td>Figueroa High School</td>\n",
       "      <td>District</td>\n",
       "      <td>2949</td>\n",
       "      <td>1884411</td>\n",
       "    </tr>\n",
       "    <tr>\n",
       "      <th>2</th>\n",
       "      <td>2</td>\n",
       "      <td>Shelton High School</td>\n",
       "      <td>Charter</td>\n",
       "      <td>1761</td>\n",
       "      <td>1056600</td>\n",
       "    </tr>\n",
       "    <tr>\n",
       "      <th>3</th>\n",
       "      <td>3</td>\n",
       "      <td>Hernandez High School</td>\n",
       "      <td>District</td>\n",
       "      <td>4635</td>\n",
       "      <td>3022020</td>\n",
       "    </tr>\n",
       "    <tr>\n",
       "      <th>4</th>\n",
       "      <td>4</td>\n",
       "      <td>Griffin High School</td>\n",
       "      <td>Charter</td>\n",
       "      <td>1468</td>\n",
       "      <td>917500</td>\n",
       "    </tr>\n",
       "  </tbody>\n",
       "</table>\n",
       "</div>"
      ],
      "text/plain": [
       "   School ID            school_name      type  size   budget\n",
       "0          0      Huang High School  District  2917  1910635\n",
       "1          1   Figueroa High School  District  2949  1884411\n",
       "2          2    Shelton High School   Charter  1761  1056600\n",
       "3          3  Hernandez High School  District  4635  3022020\n",
       "4          4    Griffin High School   Charter  1468   917500"
      ]
     },
     "execution_count": 209,
     "metadata": {},
     "output_type": "execute_result"
    }
   ],
   "source": [
    "schools_df = pd.read_csv(schools)\n",
    "schools_df.head()"
   ]
  },
  {
   "cell_type": "code",
   "execution_count": 211,
   "id": "5512971d",
   "metadata": {},
   "outputs": [
    {
     "data": {
      "text/html": [
       "<div>\n",
       "<style scoped>\n",
       "    .dataframe tbody tr th:only-of-type {\n",
       "        vertical-align: middle;\n",
       "    }\n",
       "\n",
       "    .dataframe tbody tr th {\n",
       "        vertical-align: top;\n",
       "    }\n",
       "\n",
       "    .dataframe thead th {\n",
       "        text-align: right;\n",
       "    }\n",
       "</style>\n",
       "<table border=\"1\" class=\"dataframe\">\n",
       "  <thead>\n",
       "    <tr style=\"text-align: right;\">\n",
       "      <th></th>\n",
       "      <th>Student ID</th>\n",
       "      <th>student_name</th>\n",
       "      <th>gender</th>\n",
       "      <th>grade</th>\n",
       "      <th>school_name</th>\n",
       "      <th>reading_score</th>\n",
       "      <th>math_score</th>\n",
       "    </tr>\n",
       "  </thead>\n",
       "  <tbody>\n",
       "    <tr>\n",
       "      <th>0</th>\n",
       "      <td>0</td>\n",
       "      <td>Paul Bradley</td>\n",
       "      <td>M</td>\n",
       "      <td>9th</td>\n",
       "      <td>Huang High School</td>\n",
       "      <td>66</td>\n",
       "      <td>79</td>\n",
       "    </tr>\n",
       "    <tr>\n",
       "      <th>1</th>\n",
       "      <td>1</td>\n",
       "      <td>Victor Smith</td>\n",
       "      <td>M</td>\n",
       "      <td>12th</td>\n",
       "      <td>Huang High School</td>\n",
       "      <td>94</td>\n",
       "      <td>61</td>\n",
       "    </tr>\n",
       "    <tr>\n",
       "      <th>2</th>\n",
       "      <td>2</td>\n",
       "      <td>Kevin Rodriguez</td>\n",
       "      <td>M</td>\n",
       "      <td>12th</td>\n",
       "      <td>Huang High School</td>\n",
       "      <td>90</td>\n",
       "      <td>60</td>\n",
       "    </tr>\n",
       "    <tr>\n",
       "      <th>3</th>\n",
       "      <td>3</td>\n",
       "      <td>Dr. Richard Scott</td>\n",
       "      <td>M</td>\n",
       "      <td>12th</td>\n",
       "      <td>Huang High School</td>\n",
       "      <td>67</td>\n",
       "      <td>58</td>\n",
       "    </tr>\n",
       "    <tr>\n",
       "      <th>4</th>\n",
       "      <td>4</td>\n",
       "      <td>Bonnie Ray</td>\n",
       "      <td>F</td>\n",
       "      <td>9th</td>\n",
       "      <td>Huang High School</td>\n",
       "      <td>97</td>\n",
       "      <td>84</td>\n",
       "    </tr>\n",
       "  </tbody>\n",
       "</table>\n",
       "</div>"
      ],
      "text/plain": [
       "   Student ID       student_name gender grade        school_name  \\\n",
       "0           0       Paul Bradley      M   9th  Huang High School   \n",
       "1           1       Victor Smith      M  12th  Huang High School   \n",
       "2           2    Kevin Rodriguez      M  12th  Huang High School   \n",
       "3           3  Dr. Richard Scott      M  12th  Huang High School   \n",
       "4           4         Bonnie Ray      F   9th  Huang High School   \n",
       "\n",
       "   reading_score  math_score  \n",
       "0             66          79  \n",
       "1             94          61  \n",
       "2             90          60  \n",
       "3             67          58  \n",
       "4             97          84  "
      ]
     },
     "execution_count": 211,
     "metadata": {},
     "output_type": "execute_result"
    }
   ],
   "source": [
    "students_df = pd.read_csv(students)\n",
    "students_df.head()"
   ]
  },
  {
   "cell_type": "code",
   "execution_count": 213,
   "id": "ddab0d69",
   "metadata": {
    "scrolled": true
   },
   "outputs": [
    {
     "data": {
      "text/html": [
       "<div>\n",
       "<style scoped>\n",
       "    .dataframe tbody tr th:only-of-type {\n",
       "        vertical-align: middle;\n",
       "    }\n",
       "\n",
       "    .dataframe tbody tr th {\n",
       "        vertical-align: top;\n",
       "    }\n",
       "\n",
       "    .dataframe thead th {\n",
       "        text-align: right;\n",
       "    }\n",
       "</style>\n",
       "<table border=\"1\" class=\"dataframe\">\n",
       "  <thead>\n",
       "    <tr style=\"text-align: right;\">\n",
       "      <th></th>\n",
       "      <th>Student ID</th>\n",
       "      <th>student_name</th>\n",
       "      <th>gender</th>\n",
       "      <th>grade</th>\n",
       "      <th>school_name</th>\n",
       "      <th>reading_score</th>\n",
       "      <th>math_score</th>\n",
       "      <th>School ID</th>\n",
       "      <th>type</th>\n",
       "      <th>size</th>\n",
       "      <th>budget</th>\n",
       "    </tr>\n",
       "  </thead>\n",
       "  <tbody>\n",
       "    <tr>\n",
       "      <th>0</th>\n",
       "      <td>0</td>\n",
       "      <td>Paul Bradley</td>\n",
       "      <td>M</td>\n",
       "      <td>9th</td>\n",
       "      <td>Huang High School</td>\n",
       "      <td>66</td>\n",
       "      <td>79</td>\n",
       "      <td>0</td>\n",
       "      <td>District</td>\n",
       "      <td>2917</td>\n",
       "      <td>1910635</td>\n",
       "    </tr>\n",
       "    <tr>\n",
       "      <th>1</th>\n",
       "      <td>1</td>\n",
       "      <td>Victor Smith</td>\n",
       "      <td>M</td>\n",
       "      <td>12th</td>\n",
       "      <td>Huang High School</td>\n",
       "      <td>94</td>\n",
       "      <td>61</td>\n",
       "      <td>0</td>\n",
       "      <td>District</td>\n",
       "      <td>2917</td>\n",
       "      <td>1910635</td>\n",
       "    </tr>\n",
       "    <tr>\n",
       "      <th>2</th>\n",
       "      <td>2</td>\n",
       "      <td>Kevin Rodriguez</td>\n",
       "      <td>M</td>\n",
       "      <td>12th</td>\n",
       "      <td>Huang High School</td>\n",
       "      <td>90</td>\n",
       "      <td>60</td>\n",
       "      <td>0</td>\n",
       "      <td>District</td>\n",
       "      <td>2917</td>\n",
       "      <td>1910635</td>\n",
       "    </tr>\n",
       "    <tr>\n",
       "      <th>3</th>\n",
       "      <td>3</td>\n",
       "      <td>Dr. Richard Scott</td>\n",
       "      <td>M</td>\n",
       "      <td>12th</td>\n",
       "      <td>Huang High School</td>\n",
       "      <td>67</td>\n",
       "      <td>58</td>\n",
       "      <td>0</td>\n",
       "      <td>District</td>\n",
       "      <td>2917</td>\n",
       "      <td>1910635</td>\n",
       "    </tr>\n",
       "    <tr>\n",
       "      <th>4</th>\n",
       "      <td>4</td>\n",
       "      <td>Bonnie Ray</td>\n",
       "      <td>F</td>\n",
       "      <td>9th</td>\n",
       "      <td>Huang High School</td>\n",
       "      <td>97</td>\n",
       "      <td>84</td>\n",
       "      <td>0</td>\n",
       "      <td>District</td>\n",
       "      <td>2917</td>\n",
       "      <td>1910635</td>\n",
       "    </tr>\n",
       "  </tbody>\n",
       "</table>\n",
       "</div>"
      ],
      "text/plain": [
       "   Student ID       student_name gender grade        school_name  \\\n",
       "0           0       Paul Bradley      M   9th  Huang High School   \n",
       "1           1       Victor Smith      M  12th  Huang High School   \n",
       "2           2    Kevin Rodriguez      M  12th  Huang High School   \n",
       "3           3  Dr. Richard Scott      M  12th  Huang High School   \n",
       "4           4         Bonnie Ray      F   9th  Huang High School   \n",
       "\n",
       "   reading_score  math_score  School ID      type  size   budget  \n",
       "0             66          79          0  District  2917  1910635  \n",
       "1             94          61          0  District  2917  1910635  \n",
       "2             90          60          0  District  2917  1910635  \n",
       "3             67          58          0  District  2917  1910635  \n",
       "4             97          84          0  District  2917  1910635  "
      ]
     },
     "execution_count": 213,
     "metadata": {},
     "output_type": "execute_result"
    }
   ],
   "source": [
    "school_data_combined = pd.merge(students_df, schools_df, how=\"left\", on=[\"school_name\",\"school_name\"])\n",
    "school_data_combined.head()"
   ]
  },
  {
   "cell_type": "code",
   "execution_count": 214,
   "id": "362ade43",
   "metadata": {},
   "outputs": [],
   "source": [
    "school_data_combined.to_csv(\"School_Data_Combined.csv\")"
   ]
  },
  {
   "cell_type": "code",
   "execution_count": 215,
   "id": "3233a480",
   "metadata": {},
   "outputs": [
    {
     "data": {
      "text/plain": [
       "15"
      ]
     },
     "execution_count": 215,
     "metadata": {},
     "output_type": "execute_result"
    }
   ],
   "source": [
    "school_count = len(school_data_combined[\"school_name\"].unique())\n",
    "school_count"
   ]
  },
  {
   "cell_type": "code",
   "execution_count": 216,
   "id": "4d6fba98",
   "metadata": {},
   "outputs": [
    {
     "data": {
      "text/plain": [
       "39170"
      ]
     },
     "execution_count": 216,
     "metadata": {},
     "output_type": "execute_result"
    }
   ],
   "source": [
    "student_count = school_data_combined[\"student_name\"].count()\n",
    "student_count"
   ]
  },
  {
   "cell_type": "code",
   "execution_count": 217,
   "id": "8ead861c",
   "metadata": {},
   "outputs": [
    {
     "data": {
      "text/plain": [
       "24649428"
      ]
     },
     "execution_count": 217,
     "metadata": {},
     "output_type": "execute_result"
    }
   ],
   "source": [
    "total_budget = schools_df[\"budget\"].sum()\n",
    "total_budget"
   ]
  },
  {
   "cell_type": "code",
   "execution_count": 218,
   "id": "8251189b",
   "metadata": {},
   "outputs": [
    {
     "data": {
      "text/plain": [
       "78.98537145774827"
      ]
     },
     "execution_count": 218,
     "metadata": {},
     "output_type": "execute_result"
    }
   ],
   "source": [
    "avg_math_score = school_data_combined[\"math_score\"].mean()\n",
    "avg_math_score"
   ]
  },
  {
   "cell_type": "code",
   "execution_count": 219,
   "id": "de59e214",
   "metadata": {},
   "outputs": [
    {
     "data": {
      "text/plain": [
       "81.87784018381414"
      ]
     },
     "execution_count": 219,
     "metadata": {},
     "output_type": "execute_result"
    }
   ],
   "source": [
    "avg_reading_score = school_data_combined[\"reading_score\"].mean()\n",
    "avg_reading_score"
   ]
  },
  {
   "cell_type": "code",
   "execution_count": 220,
   "id": "5c0d3679",
   "metadata": {},
   "outputs": [
    {
     "data": {
      "text/plain": [
       "74.9808526933878"
      ]
     },
     "execution_count": 220,
     "metadata": {},
     "output_type": "execute_result"
    }
   ],
   "source": [
    "passing_math_count = school_data_combined[(school_data_combined[\"math_score\"] >= 70)].count()[\"student_name\"]\n",
    "passing_math_percent = (passing_math_count / student_count) * 100\n",
    "passing_math_percent"
   ]
  },
  {
   "cell_type": "code",
   "execution_count": 221,
   "id": "479aa3be",
   "metadata": {},
   "outputs": [
    {
     "data": {
      "text/plain": [
       "85.80546336482001"
      ]
     },
     "execution_count": 221,
     "metadata": {},
     "output_type": "execute_result"
    }
   ],
   "source": [
    "passing_reading_count = school_data_combined[(school_data_combined[\"reading_score\"] >= 70)].count()[\"student_name\"]\n",
    "passing_reading_percent = (passing_reading_count / student_count) * 100\n",
    "passing_reading_percent"
   ]
  },
  {
   "cell_type": "code",
   "execution_count": 222,
   "id": "07f5f0d1",
   "metadata": {},
   "outputs": [
    {
     "data": {
      "text/plain": [
       "65.17232575950983"
      ]
     },
     "execution_count": 222,
     "metadata": {},
     "output_type": "execute_result"
    }
   ],
   "source": [
    "overall_passing_count = school_data_combined[(school_data_combined[\"math_score\"] >= 70) & (school_data_combined[\"reading_score\"] >= 70)].count()[\"student_name\"]\n",
    "overall_passing_percent = (overall_passing_count / student_count) * 100\n",
    "overall_passing_percent"
   ]
  },
  {
   "cell_type": "code",
   "execution_count": 223,
   "id": "29c28382",
   "metadata": {},
   "outputs": [
    {
     "data": {
      "text/html": [
       "<div>\n",
       "<style scoped>\n",
       "    .dataframe tbody tr th:only-of-type {\n",
       "        vertical-align: middle;\n",
       "    }\n",
       "\n",
       "    .dataframe tbody tr th {\n",
       "        vertical-align: top;\n",
       "    }\n",
       "\n",
       "    .dataframe thead th {\n",
       "        text-align: right;\n",
       "    }\n",
       "</style>\n",
       "<table border=\"1\" class=\"dataframe\">\n",
       "  <thead>\n",
       "    <tr style=\"text-align: right;\">\n",
       "      <th></th>\n",
       "      <th>Total number of unique schools</th>\n",
       "      <th>Total students</th>\n",
       "      <th>Total budget</th>\n",
       "      <th>Average math score</th>\n",
       "      <th>Average reading score</th>\n",
       "      <th>Passing math %</th>\n",
       "      <th>Passing reading %</th>\n",
       "      <th>Passing overall %</th>\n",
       "    </tr>\n",
       "  </thead>\n",
       "  <tbody>\n",
       "    <tr>\n",
       "      <th>0</th>\n",
       "      <td>15</td>\n",
       "      <td>39,170</td>\n",
       "      <td>$24,649,428.00</td>\n",
       "      <td>78.99</td>\n",
       "      <td>81.88</td>\n",
       "      <td>74.98%</td>\n",
       "      <td>85.81%</td>\n",
       "      <td>65.17%</td>\n",
       "    </tr>\n",
       "  </tbody>\n",
       "</table>\n",
       "</div>"
      ],
      "text/plain": [
       "   Total number of unique schools Total students    Total budget  \\\n",
       "0                              15         39,170  $24,649,428.00   \n",
       "\n",
       "  Average math score Average reading score Passing math % Passing reading %  \\\n",
       "0              78.99                 81.88         74.98%            85.81%   \n",
       "\n",
       "  Passing overall %  \n",
       "0            65.17%  "
      ]
     },
     "execution_count": 223,
     "metadata": {},
     "output_type": "execute_result"
    }
   ],
   "source": [
    "district_summary_df = pd.DataFrame(\n",
    "    {\"Total number of unique schools\": [school_count],\n",
    "    \"Total students\": [student_count],\n",
    "    \"Total budget\": [total_budget],\n",
    "    \"Average math score\": [avg_math_score],\n",
    "    \"Average reading score\": [avg_reading_score],\n",
    "    \"Passing math %\": [passing_math_percent],\n",
    "    \"Passing reading %\": [passing_reading_percent],\n",
    "    \"Passing overall %\": [overall_passing_percent]})\n",
    "\n",
    "district_summary_df[\"Total students\"] = district_summary_df[\"Total students\"].map(\"{:,}\".format)\n",
    "district_summary_df[\"Total budget\"] = district_summary_df[\"Total budget\"].map(\"${:,.2f}\".format)\n",
    "district_summary_df[\"Average math score\"] = district_summary_df[\"Average math score\"].map(\"{:,.2f}\".format)\n",
    "district_summary_df[\"Average reading score\"] = district_summary_df[\"Average reading score\"].map(\"{:,.2f}\".format)\n",
    "district_summary_df[\"Passing math %\"] = district_summary_df[\"Passing math %\"].map(\"{:,.2f}%\".format)\n",
    "district_summary_df[\"Passing reading %\"] = district_summary_df[\"Passing reading %\"].map(\"{:,.2f}%\".format)\n",
    "district_summary_df[\"Passing overall %\"] = district_summary_df[\"Passing overall %\"].map(\"{:,.2f}%\".format)\n",
    "\n",
    "district_summary_df"
   ]
  },
  {
   "cell_type": "code",
   "execution_count": 224,
   "id": "f9983ff1",
   "metadata": {},
   "outputs": [],
   "source": [
    "district_summary_df.to_csv(\"District Summary.csv\")"
   ]
  },
  {
   "cell_type": "code",
   "execution_count": 267,
   "id": "b5f56c38",
   "metadata": {},
   "outputs": [
    {
     "data": {
      "text/html": [
       "<div>\n",
       "<style scoped>\n",
       "    .dataframe tbody tr th:only-of-type {\n",
       "        vertical-align: middle;\n",
       "    }\n",
       "\n",
       "    .dataframe tbody tr th {\n",
       "        vertical-align: top;\n",
       "    }\n",
       "\n",
       "    .dataframe thead th {\n",
       "        text-align: right;\n",
       "    }\n",
       "</style>\n",
       "<table border=\"1\" class=\"dataframe\">\n",
       "  <thead>\n",
       "    <tr style=\"text-align: right;\">\n",
       "      <th></th>\n",
       "      <th>school_name</th>\n",
       "      <th>type</th>\n",
       "      <th>size</th>\n",
       "      <th>budget</th>\n",
       "    </tr>\n",
       "  </thead>\n",
       "  <tbody>\n",
       "    <tr>\n",
       "      <th>0</th>\n",
       "      <td>Huang High School</td>\n",
       "      <td>District</td>\n",
       "      <td>2917</td>\n",
       "      <td>1910635</td>\n",
       "    </tr>\n",
       "    <tr>\n",
       "      <th>1</th>\n",
       "      <td>Figueroa High School</td>\n",
       "      <td>District</td>\n",
       "      <td>2949</td>\n",
       "      <td>1884411</td>\n",
       "    </tr>\n",
       "    <tr>\n",
       "      <th>2</th>\n",
       "      <td>Shelton High School</td>\n",
       "      <td>Charter</td>\n",
       "      <td>1761</td>\n",
       "      <td>1056600</td>\n",
       "    </tr>\n",
       "    <tr>\n",
       "      <th>3</th>\n",
       "      <td>Hernandez High School</td>\n",
       "      <td>District</td>\n",
       "      <td>4635</td>\n",
       "      <td>3022020</td>\n",
       "    </tr>\n",
       "    <tr>\n",
       "      <th>4</th>\n",
       "      <td>Griffin High School</td>\n",
       "      <td>Charter</td>\n",
       "      <td>1468</td>\n",
       "      <td>917500</td>\n",
       "    </tr>\n",
       "  </tbody>\n",
       "</table>\n",
       "</div>"
      ],
      "text/plain": [
       "             school_name      type  size   budget\n",
       "0      Huang High School  District  2917  1910635\n",
       "1   Figueroa High School  District  2949  1884411\n",
       "2    Shelton High School   Charter  1761  1056600\n",
       "3  Hernandez High School  District  4635  3022020\n",
       "4    Griffin High School   Charter  1468   917500"
      ]
     },
     "execution_count": 267,
     "metadata": {},
     "output_type": "execute_result"
    }
   ],
   "source": [
    "schools_df_updated = schools_df\n",
    "schools_df_updated = schools_df_updated.drop(columns = [\"School ID\"])\n",
    "schools_df_updated.head()"
   ]
  },
  {
   "cell_type": "code",
   "execution_count": 282,
   "id": "6304a068",
   "metadata": {},
   "outputs": [],
   "source": [
    "schools_df_updated[\"Per student budget\"] = schools_df_updated[\"budget\"] / schools_df_updated[\"size\"]"
   ]
  },
  {
   "cell_type": "code",
   "execution_count": 283,
   "id": "6e553345",
   "metadata": {},
   "outputs": [
    {
     "data": {
      "text/html": [
       "<div>\n",
       "<style scoped>\n",
       "    .dataframe tbody tr th:only-of-type {\n",
       "        vertical-align: middle;\n",
       "    }\n",
       "\n",
       "    .dataframe tbody tr th {\n",
       "        vertical-align: top;\n",
       "    }\n",
       "\n",
       "    .dataframe thead th {\n",
       "        text-align: right;\n",
       "    }\n",
       "</style>\n",
       "<table border=\"1\" class=\"dataframe\">\n",
       "  <thead>\n",
       "    <tr style=\"text-align: right;\">\n",
       "      <th></th>\n",
       "      <th>school_name</th>\n",
       "      <th>type</th>\n",
       "      <th>size</th>\n",
       "      <th>budget</th>\n",
       "      <th>Per student budget</th>\n",
       "    </tr>\n",
       "  </thead>\n",
       "  <tbody>\n",
       "    <tr>\n",
       "      <th>0</th>\n",
       "      <td>Huang High School</td>\n",
       "      <td>District</td>\n",
       "      <td>2917</td>\n",
       "      <td>1910635</td>\n",
       "      <td>655.0</td>\n",
       "    </tr>\n",
       "    <tr>\n",
       "      <th>1</th>\n",
       "      <td>Figueroa High School</td>\n",
       "      <td>District</td>\n",
       "      <td>2949</td>\n",
       "      <td>1884411</td>\n",
       "      <td>639.0</td>\n",
       "    </tr>\n",
       "    <tr>\n",
       "      <th>2</th>\n",
       "      <td>Shelton High School</td>\n",
       "      <td>Charter</td>\n",
       "      <td>1761</td>\n",
       "      <td>1056600</td>\n",
       "      <td>600.0</td>\n",
       "    </tr>\n",
       "    <tr>\n",
       "      <th>3</th>\n",
       "      <td>Hernandez High School</td>\n",
       "      <td>District</td>\n",
       "      <td>4635</td>\n",
       "      <td>3022020</td>\n",
       "      <td>652.0</td>\n",
       "    </tr>\n",
       "    <tr>\n",
       "      <th>4</th>\n",
       "      <td>Griffin High School</td>\n",
       "      <td>Charter</td>\n",
       "      <td>1468</td>\n",
       "      <td>917500</td>\n",
       "      <td>625.0</td>\n",
       "    </tr>\n",
       "  </tbody>\n",
       "</table>\n",
       "</div>"
      ],
      "text/plain": [
       "             school_name      type  size   budget  Per student budget\n",
       "0      Huang High School  District  2917  1910635               655.0\n",
       "1   Figueroa High School  District  2949  1884411               639.0\n",
       "2    Shelton High School   Charter  1761  1056600               600.0\n",
       "3  Hernandez High School  District  4635  3022020               652.0\n",
       "4    Griffin High School   Charter  1468   917500               625.0"
      ]
     },
     "execution_count": 283,
     "metadata": {},
     "output_type": "execute_result"
    }
   ],
   "source": [
    "schools_df_updated.head()"
   ]
  },
  {
   "cell_type": "code",
   "execution_count": 287,
   "id": "8a34d3ad",
   "metadata": {},
   "outputs": [],
   "source": [
    "school_avg_math_score = school_data_combined.groupby(\"school_name\")[\"math_score\"].mean()\n",
    "school_avg_reading_score = school_data_combined.groupby(\"school_name\")[\"reading_score\"].mean()"
   ]
  },
  {
   "cell_type": "code",
   "execution_count": 288,
   "id": "6c24b178",
   "metadata": {},
   "outputs": [],
   "source": [
    "schools_df_updated_math = pd.merge(schools_df_updated, school_avg_math_score, how=\"left\", on=[\"school_name\",\"school_name\"])\n",
    "schools_df_summary = pd.merge(schools_df_updated_math, school_avg_reading_score, how=\"left\", on=[\"school_name\",\"school_name\"])"
   ]
  },
  {
   "cell_type": "code",
   "execution_count": 297,
   "id": "1bcdfcc8",
   "metadata": {},
   "outputs": [
    {
     "data": {
      "text/html": [
       "<div>\n",
       "<style scoped>\n",
       "    .dataframe tbody tr th:only-of-type {\n",
       "        vertical-align: middle;\n",
       "    }\n",
       "\n",
       "    .dataframe tbody tr th {\n",
       "        vertical-align: top;\n",
       "    }\n",
       "\n",
       "    .dataframe thead th {\n",
       "        text-align: right;\n",
       "    }\n",
       "</style>\n",
       "<table border=\"1\" class=\"dataframe\">\n",
       "  <thead>\n",
       "    <tr style=\"text-align: right;\">\n",
       "      <th></th>\n",
       "      <th>school_name</th>\n",
       "      <th>type</th>\n",
       "      <th>size</th>\n",
       "      <th>budget</th>\n",
       "      <th>Per student budget</th>\n",
       "      <th>math_score</th>\n",
       "      <th>reading_score</th>\n",
       "    </tr>\n",
       "  </thead>\n",
       "  <tbody>\n",
       "    <tr>\n",
       "      <th>0</th>\n",
       "      <td>Huang High School</td>\n",
       "      <td>District</td>\n",
       "      <td>2917</td>\n",
       "      <td>1910635</td>\n",
       "      <td>655.0</td>\n",
       "      <td>76.629414</td>\n",
       "      <td>81.182722</td>\n",
       "    </tr>\n",
       "    <tr>\n",
       "      <th>1</th>\n",
       "      <td>Figueroa High School</td>\n",
       "      <td>District</td>\n",
       "      <td>2949</td>\n",
       "      <td>1884411</td>\n",
       "      <td>639.0</td>\n",
       "      <td>76.711767</td>\n",
       "      <td>81.158020</td>\n",
       "    </tr>\n",
       "    <tr>\n",
       "      <th>2</th>\n",
       "      <td>Shelton High School</td>\n",
       "      <td>Charter</td>\n",
       "      <td>1761</td>\n",
       "      <td>1056600</td>\n",
       "      <td>600.0</td>\n",
       "      <td>83.359455</td>\n",
       "      <td>83.725724</td>\n",
       "    </tr>\n",
       "    <tr>\n",
       "      <th>3</th>\n",
       "      <td>Hernandez High School</td>\n",
       "      <td>District</td>\n",
       "      <td>4635</td>\n",
       "      <td>3022020</td>\n",
       "      <td>652.0</td>\n",
       "      <td>77.289752</td>\n",
       "      <td>80.934412</td>\n",
       "    </tr>\n",
       "    <tr>\n",
       "      <th>4</th>\n",
       "      <td>Griffin High School</td>\n",
       "      <td>Charter</td>\n",
       "      <td>1468</td>\n",
       "      <td>917500</td>\n",
       "      <td>625.0</td>\n",
       "      <td>83.351499</td>\n",
       "      <td>83.816757</td>\n",
       "    </tr>\n",
       "  </tbody>\n",
       "</table>\n",
       "</div>"
      ],
      "text/plain": [
       "             school_name      type  size   budget  Per student budget  \\\n",
       "0      Huang High School  District  2917  1910635               655.0   \n",
       "1   Figueroa High School  District  2949  1884411               639.0   \n",
       "2    Shelton High School   Charter  1761  1056600               600.0   \n",
       "3  Hernandez High School  District  4635  3022020               652.0   \n",
       "4    Griffin High School   Charter  1468   917500               625.0   \n",
       "\n",
       "   math_score  reading_score  \n",
       "0   76.629414      81.182722  \n",
       "1   76.711767      81.158020  \n",
       "2   83.359455      83.725724  \n",
       "3   77.289752      80.934412  \n",
       "4   83.351499      83.816757  "
      ]
     },
     "execution_count": 297,
     "metadata": {},
     "output_type": "execute_result"
    }
   ],
   "source": [
    "schools_df_summary.head()"
   ]
  },
  {
   "cell_type": "code",
   "execution_count": 298,
   "id": "458b5243",
   "metadata": {},
   "outputs": [
    {
     "data": {
      "text/plain": [
       "school_name\n",
       "Bailey High School       3318\n",
       "Cabrera High School      1749\n",
       "Figueroa High School     1946\n",
       "Ford High School         1871\n",
       "Griffin High School      1371\n",
       "Hernandez High School    3094\n",
       "Holden High School        395\n",
       "Huang High School        1916\n",
       "Johnson High School      3145\n",
       "Pena High School          910\n",
       "Rodriguez High School    2654\n",
       "Shelton High School      1653\n",
       "Thomas High School       1525\n",
       "Wilson High School       2143\n",
       "Wright High School       1680\n",
       "Name: math_score, dtype: int64"
      ]
     },
     "execution_count": 298,
     "metadata": {},
     "output_type": "execute_result"
    }
   ],
   "source": [
    "passing_math_count_byschool = school_data_combined[(school_data_combined[\"math_score\"] >= 70)]\n",
    "passing_math_count_byschool_groupby = passing_math_count_byschool.groupby(\"school_name\")[\"math_score\"].count()\n",
    "passing_math_count_byschool_groupby"
   ]
  },
  {
   "cell_type": "code",
   "execution_count": 308,
   "id": "b085d844",
   "metadata": {},
   "outputs": [
    {
     "data": {
      "text/plain": [
       "school_name\n",
       "Bailey High School       4077\n",
       "Cabrera High School      1803\n",
       "Figueroa High School     2381\n",
       "Ford High School         2172\n",
       "Griffin High School      1426\n",
       "Hernandez High School    3748\n",
       "Holden High School        411\n",
       "Huang High School        2372\n",
       "Johnson High School      3867\n",
       "Pena High School          923\n",
       "Rodriguez High School    3208\n",
       "Shelton High School      1688\n",
       "Thomas High School       1591\n",
       "Wilson High School       2204\n",
       "Wright High School       1739\n",
       "Name: reading_score, dtype: int64"
      ]
     },
     "execution_count": 308,
     "metadata": {},
     "output_type": "execute_result"
    }
   ],
   "source": [
    "passing_reading_count_byschool = school_data_combined[(school_data_combined[\"reading_score\"] >= 70)]\n",
    "passing_reading_count_byschool_groupby = passing_reading_count_byschool.groupby(\"school_name\")[\"reading_score\"].count()\n",
    "passing_reading_count_byschool_groupby"
   ]
  },
  {
   "cell_type": "code",
   "execution_count": 302,
   "id": "6cf0ced2",
   "metadata": {},
   "outputs": [],
   "source": [
    "schools_df_summary_v1 = pd.merge(schools_df_summary, passing_math_count_byschool_groupby, how=\"left\", on=[\"school_name\",\"school_name\"])\n",
    "schools_df_summary_v2 = pd.merge(schools_df_summary_v1, passing_reading_count_byschool_groupby, how=\"left\", on=[\"school_name\",\"school_name\"])"
   ]
  },
  {
   "cell_type": "code",
   "execution_count": 315,
   "id": "001993f8",
   "metadata": {},
   "outputs": [
    {
     "data": {
      "text/plain": [
       "school_name\n",
       "Bailey High School       2719\n",
       "Cabrera High School      1697\n",
       "Figueroa High School     1569\n",
       "Ford High School         1487\n",
       "Griffin High School      1330\n",
       "Hernandez High School    2481\n",
       "Holden High School        381\n",
       "Huang High School        1561\n",
       "Johnson High School      2549\n",
       "Pena High School          871\n",
       "Rodriguez High School    2119\n",
       "Shelton High School      1583\n",
       "Thomas High School       1487\n",
       "Wilson High School       2068\n",
       "Wright High School       1626\n",
       "Name: student_name, dtype: int64"
      ]
     },
     "execution_count": 315,
     "metadata": {},
     "output_type": "execute_result"
    }
   ],
   "source": [
    "overall_passing_count_byschool = school_data_combined[(school_data_combined[\"math_score\"] >= 70) & (school_data_combined[\"reading_score\"] >= 70)]\n",
    "overall_passing_count_byschool_groupby = overall_passing_count_byschool.groupby(\"school_name\").count()[\"student_name\"]\n",
    "overall_passing_count_byschool_groupby"
   ]
  },
  {
   "cell_type": "code",
   "execution_count": 316,
   "id": "1c63d644",
   "metadata": {},
   "outputs": [],
   "source": [
    "schools_df_summary_v3 = pd.merge(schools_df_summary_v2, overall_passing_count_byschool_groupby, how=\"left\", on=[\"school_name\",\"school_name\"])"
   ]
  },
  {
   "cell_type": "code",
   "execution_count": 317,
   "id": "b5dd8975",
   "metadata": {},
   "outputs": [
    {
     "data": {
      "text/html": [
       "<div>\n",
       "<style scoped>\n",
       "    .dataframe tbody tr th:only-of-type {\n",
       "        vertical-align: middle;\n",
       "    }\n",
       "\n",
       "    .dataframe tbody tr th {\n",
       "        vertical-align: top;\n",
       "    }\n",
       "\n",
       "    .dataframe thead th {\n",
       "        text-align: right;\n",
       "    }\n",
       "</style>\n",
       "<table border=\"1\" class=\"dataframe\">\n",
       "  <thead>\n",
       "    <tr style=\"text-align: right;\">\n",
       "      <th></th>\n",
       "      <th>school_name</th>\n",
       "      <th>type</th>\n",
       "      <th>size</th>\n",
       "      <th>budget</th>\n",
       "      <th>Per student budget</th>\n",
       "      <th>math_score_x</th>\n",
       "      <th>reading_score_x</th>\n",
       "      <th>math_score_y</th>\n",
       "      <th>reading_score_y</th>\n",
       "      <th>% passing math</th>\n",
       "      <th>% passing reading</th>\n",
       "      <th>student_name</th>\n",
       "    </tr>\n",
       "  </thead>\n",
       "  <tbody>\n",
       "    <tr>\n",
       "      <th>0</th>\n",
       "      <td>Huang High School</td>\n",
       "      <td>District</td>\n",
       "      <td>2917</td>\n",
       "      <td>1910635</td>\n",
       "      <td>655.0</td>\n",
       "      <td>76.629414</td>\n",
       "      <td>81.182722</td>\n",
       "      <td>1916</td>\n",
       "      <td>2372</td>\n",
       "      <td>0.656839</td>\n",
       "      <td>0.813164</td>\n",
       "      <td>1561</td>\n",
       "    </tr>\n",
       "    <tr>\n",
       "      <th>1</th>\n",
       "      <td>Figueroa High School</td>\n",
       "      <td>District</td>\n",
       "      <td>2949</td>\n",
       "      <td>1884411</td>\n",
       "      <td>639.0</td>\n",
       "      <td>76.711767</td>\n",
       "      <td>81.158020</td>\n",
       "      <td>1946</td>\n",
       "      <td>2381</td>\n",
       "      <td>0.659885</td>\n",
       "      <td>0.807392</td>\n",
       "      <td>1569</td>\n",
       "    </tr>\n",
       "    <tr>\n",
       "      <th>2</th>\n",
       "      <td>Shelton High School</td>\n",
       "      <td>Charter</td>\n",
       "      <td>1761</td>\n",
       "      <td>1056600</td>\n",
       "      <td>600.0</td>\n",
       "      <td>83.359455</td>\n",
       "      <td>83.725724</td>\n",
       "      <td>1653</td>\n",
       "      <td>1688</td>\n",
       "      <td>0.938671</td>\n",
       "      <td>0.958546</td>\n",
       "      <td>1583</td>\n",
       "    </tr>\n",
       "    <tr>\n",
       "      <th>3</th>\n",
       "      <td>Hernandez High School</td>\n",
       "      <td>District</td>\n",
       "      <td>4635</td>\n",
       "      <td>3022020</td>\n",
       "      <td>652.0</td>\n",
       "      <td>77.289752</td>\n",
       "      <td>80.934412</td>\n",
       "      <td>3094</td>\n",
       "      <td>3748</td>\n",
       "      <td>0.667530</td>\n",
       "      <td>0.808630</td>\n",
       "      <td>2481</td>\n",
       "    </tr>\n",
       "    <tr>\n",
       "      <th>4</th>\n",
       "      <td>Griffin High School</td>\n",
       "      <td>Charter</td>\n",
       "      <td>1468</td>\n",
       "      <td>917500</td>\n",
       "      <td>625.0</td>\n",
       "      <td>83.351499</td>\n",
       "      <td>83.816757</td>\n",
       "      <td>1371</td>\n",
       "      <td>1426</td>\n",
       "      <td>0.933924</td>\n",
       "      <td>0.971390</td>\n",
       "      <td>1330</td>\n",
       "    </tr>\n",
       "  </tbody>\n",
       "</table>\n",
       "</div>"
      ],
      "text/plain": [
       "             school_name      type  size   budget  Per student budget  \\\n",
       "0      Huang High School  District  2917  1910635               655.0   \n",
       "1   Figueroa High School  District  2949  1884411               639.0   \n",
       "2    Shelton High School   Charter  1761  1056600               600.0   \n",
       "3  Hernandez High School  District  4635  3022020               652.0   \n",
       "4    Griffin High School   Charter  1468   917500               625.0   \n",
       "\n",
       "   math_score_x  reading_score_x  math_score_y  reading_score_y  \\\n",
       "0     76.629414        81.182722          1916             2372   \n",
       "1     76.711767        81.158020          1946             2381   \n",
       "2     83.359455        83.725724          1653             1688   \n",
       "3     77.289752        80.934412          3094             3748   \n",
       "4     83.351499        83.816757          1371             1426   \n",
       "\n",
       "   % passing math  % passing reading  student_name  \n",
       "0        0.656839           0.813164          1561  \n",
       "1        0.659885           0.807392          1569  \n",
       "2        0.938671           0.958546          1583  \n",
       "3        0.667530           0.808630          2481  \n",
       "4        0.933924           0.971390          1330  "
      ]
     },
     "execution_count": 317,
     "metadata": {},
     "output_type": "execute_result"
    }
   ],
   "source": [
    "schools_df_summary_v3.head()"
   ]
  },
  {
   "cell_type": "code",
   "execution_count": 318,
   "id": "5bedf080",
   "metadata": {},
   "outputs": [],
   "source": [
    "schools_df_summary_v3[\"% passing math\"] = schools_df_summary_v3[\"math_score_y\"] / schools_df_summary_v3[\"size\"]\n",
    "schools_df_summary_v3[\"% passing reading\"] = schools_df_summary_v3[\"reading_score_y\"] / schools_df_summary_v3[\"size\"]\n",
    "schools_df_summary_v3[\"% overall passing\"] = schools_df_summary_v3[\"student_name\"] / schools_df_summary_v3[\"size\"]\n"
   ]
  },
  {
   "cell_type": "code",
   "execution_count": 320,
   "id": "51567356",
   "metadata": {},
   "outputs": [
    {
     "data": {
      "text/html": [
       "<div>\n",
       "<style scoped>\n",
       "    .dataframe tbody tr th:only-of-type {\n",
       "        vertical-align: middle;\n",
       "    }\n",
       "\n",
       "    .dataframe tbody tr th {\n",
       "        vertical-align: top;\n",
       "    }\n",
       "\n",
       "    .dataframe thead th {\n",
       "        text-align: right;\n",
       "    }\n",
       "</style>\n",
       "<table border=\"1\" class=\"dataframe\">\n",
       "  <thead>\n",
       "    <tr style=\"text-align: right;\">\n",
       "      <th></th>\n",
       "      <th>school_name</th>\n",
       "      <th>type</th>\n",
       "      <th>size</th>\n",
       "      <th>budget</th>\n",
       "      <th>Per student budget</th>\n",
       "      <th>math_score_x</th>\n",
       "      <th>reading_score_x</th>\n",
       "      <th>math_score_y</th>\n",
       "      <th>reading_score_y</th>\n",
       "      <th>% passing math</th>\n",
       "      <th>% passing reading</th>\n",
       "      <th>student_name</th>\n",
       "      <th>% overall passing</th>\n",
       "    </tr>\n",
       "  </thead>\n",
       "  <tbody>\n",
       "    <tr>\n",
       "      <th>0</th>\n",
       "      <td>Huang High School</td>\n",
       "      <td>District</td>\n",
       "      <td>2917</td>\n",
       "      <td>1910635</td>\n",
       "      <td>655.0</td>\n",
       "      <td>76.629414</td>\n",
       "      <td>81.182722</td>\n",
       "      <td>1916</td>\n",
       "      <td>2372</td>\n",
       "      <td>0.656839</td>\n",
       "      <td>0.813164</td>\n",
       "      <td>1561</td>\n",
       "      <td>0.535139</td>\n",
       "    </tr>\n",
       "    <tr>\n",
       "      <th>1</th>\n",
       "      <td>Figueroa High School</td>\n",
       "      <td>District</td>\n",
       "      <td>2949</td>\n",
       "      <td>1884411</td>\n",
       "      <td>639.0</td>\n",
       "      <td>76.711767</td>\n",
       "      <td>81.158020</td>\n",
       "      <td>1946</td>\n",
       "      <td>2381</td>\n",
       "      <td>0.659885</td>\n",
       "      <td>0.807392</td>\n",
       "      <td>1569</td>\n",
       "      <td>0.532045</td>\n",
       "    </tr>\n",
       "    <tr>\n",
       "      <th>2</th>\n",
       "      <td>Shelton High School</td>\n",
       "      <td>Charter</td>\n",
       "      <td>1761</td>\n",
       "      <td>1056600</td>\n",
       "      <td>600.0</td>\n",
       "      <td>83.359455</td>\n",
       "      <td>83.725724</td>\n",
       "      <td>1653</td>\n",
       "      <td>1688</td>\n",
       "      <td>0.938671</td>\n",
       "      <td>0.958546</td>\n",
       "      <td>1583</td>\n",
       "      <td>0.898921</td>\n",
       "    </tr>\n",
       "    <tr>\n",
       "      <th>3</th>\n",
       "      <td>Hernandez High School</td>\n",
       "      <td>District</td>\n",
       "      <td>4635</td>\n",
       "      <td>3022020</td>\n",
       "      <td>652.0</td>\n",
       "      <td>77.289752</td>\n",
       "      <td>80.934412</td>\n",
       "      <td>3094</td>\n",
       "      <td>3748</td>\n",
       "      <td>0.667530</td>\n",
       "      <td>0.808630</td>\n",
       "      <td>2481</td>\n",
       "      <td>0.535275</td>\n",
       "    </tr>\n",
       "    <tr>\n",
       "      <th>4</th>\n",
       "      <td>Griffin High School</td>\n",
       "      <td>Charter</td>\n",
       "      <td>1468</td>\n",
       "      <td>917500</td>\n",
       "      <td>625.0</td>\n",
       "      <td>83.351499</td>\n",
       "      <td>83.816757</td>\n",
       "      <td>1371</td>\n",
       "      <td>1426</td>\n",
       "      <td>0.933924</td>\n",
       "      <td>0.971390</td>\n",
       "      <td>1330</td>\n",
       "      <td>0.905995</td>\n",
       "    </tr>\n",
       "  </tbody>\n",
       "</table>\n",
       "</div>"
      ],
      "text/plain": [
       "             school_name      type  size   budget  Per student budget  \\\n",
       "0      Huang High School  District  2917  1910635               655.0   \n",
       "1   Figueroa High School  District  2949  1884411               639.0   \n",
       "2    Shelton High School   Charter  1761  1056600               600.0   \n",
       "3  Hernandez High School  District  4635  3022020               652.0   \n",
       "4    Griffin High School   Charter  1468   917500               625.0   \n",
       "\n",
       "   math_score_x  reading_score_x  math_score_y  reading_score_y  \\\n",
       "0     76.629414        81.182722          1916             2372   \n",
       "1     76.711767        81.158020          1946             2381   \n",
       "2     83.359455        83.725724          1653             1688   \n",
       "3     77.289752        80.934412          3094             3748   \n",
       "4     83.351499        83.816757          1371             1426   \n",
       "\n",
       "   % passing math  % passing reading  student_name  % overall passing  \n",
       "0        0.656839           0.813164          1561           0.535139  \n",
       "1        0.659885           0.807392          1569           0.532045  \n",
       "2        0.938671           0.958546          1583           0.898921  \n",
       "3        0.667530           0.808630          2481           0.535275  \n",
       "4        0.933924           0.971390          1330           0.905995  "
      ]
     },
     "execution_count": 320,
     "metadata": {},
     "output_type": "execute_result"
    }
   ],
   "source": [
    "schools_df_summary_v3.head()"
   ]
  },
  {
   "cell_type": "code",
   "execution_count": null,
   "id": "b57d337c",
   "metadata": {},
   "outputs": [],
   "source": []
  }
 ],
 "metadata": {
  "kernelspec": {
   "display_name": "PythonData",
   "language": "python",
   "name": "pythondata"
  },
  "language_info": {
   "codemirror_mode": {
    "name": "ipython",
    "version": 3
   },
   "file_extension": ".py",
   "mimetype": "text/x-python",
   "name": "python",
   "nbconvert_exporter": "python",
   "pygments_lexer": "ipython3",
   "version": "3.11.4"
  }
 },
 "nbformat": 4,
 "nbformat_minor": 5
}
